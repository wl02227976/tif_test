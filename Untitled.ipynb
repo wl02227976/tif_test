{
 "cells": [
  {
   "cell_type": "code",
   "execution_count": 1,
   "id": "3f0478b5",
   "metadata": {},
   "outputs": [],
   "source": [
    "import tifffile as tiff"
   ]
  },
  {
   "cell_type": "code",
   "execution_count": 2,
   "id": "a1470793",
   "metadata": {},
   "outputs": [],
   "source": [
    "import random"
   ]
  },
  {
   "cell_type": "code",
   "execution_count": 3,
   "id": "a31e8d8f",
   "metadata": {},
   "outputs": [],
   "source": [
    "import numpy as np"
   ]
  },
  {
   "cell_type": "code",
   "execution_count": 4,
   "id": "8b38ec78",
   "metadata": {},
   "outputs": [],
   "source": [
    "img = np.zeros((300,300), np.float32)"
   ]
  },
  {
   "cell_type": "code",
   "execution_count": 5,
   "id": "0ce3aeb5",
   "metadata": {},
   "outputs": [
    {
     "data": {
      "text/plain": [
       "array([[0., 0., 0., ..., 0., 0., 0.],\n",
       "       [0., 0., 0., ..., 0., 0., 0.],\n",
       "       [0., 0., 0., ..., 0., 0., 0.],\n",
       "       ...,\n",
       "       [0., 0., 0., ..., 0., 0., 0.],\n",
       "       [0., 0., 0., ..., 0., 0., 0.],\n",
       "       [0., 0., 0., ..., 0., 0., 0.]], dtype=float32)"
      ]
     },
     "execution_count": 5,
     "metadata": {},
     "output_type": "execute_result"
    }
   ],
   "source": [
    "img"
   ]
  },
  {
   "cell_type": "code",
   "execution_count": 6,
   "id": "40ea09e8",
   "metadata": {},
   "outputs": [],
   "source": [
    "for i in range(300):\n",
    "    for j in range(300):\n",
    "        img[i][j]=random.random()"
   ]
  },
  {
   "cell_type": "code",
   "execution_count": 7,
   "id": "5d8dcd5c",
   "metadata": {},
   "outputs": [
    {
     "data": {
      "text/plain": [
       "array([[0.10281575, 0.77133787, 0.3532685 , ..., 0.19752288, 0.13828492,\n",
       "        0.78406125],\n",
       "       [0.407845  , 0.47357622, 0.995936  , ..., 0.23293671, 0.26677284,\n",
       "        0.45262378],\n",
       "       [0.26974243, 0.84279597, 0.47652835, ..., 0.8618437 , 0.1223314 ,\n",
       "        0.22297989],\n",
       "       ...,\n",
       "       [0.6467419 , 0.7285852 , 0.41350937, ..., 0.24244979, 0.7704208 ,\n",
       "        0.69136965],\n",
       "       [0.26720417, 0.8533413 , 0.13577428, ..., 0.81330824, 0.43051434,\n",
       "        0.8358562 ],\n",
       "       [0.2574979 , 0.5943771 , 0.73857296, ..., 0.22995664, 0.17813958,\n",
       "        0.69693035]], dtype=float32)"
      ]
     },
     "execution_count": 7,
     "metadata": {},
     "output_type": "execute_result"
    }
   ],
   "source": [
    "img"
   ]
  },
  {
   "cell_type": "code",
   "execution_count": 8,
   "id": "8e178854",
   "metadata": {},
   "outputs": [],
   "source": [
    "tiff.imsave(\"test.tif\",img)"
   ]
  },
  {
   "cell_type": "code",
   "execution_count": 9,
   "id": "3c20c920",
   "metadata": {},
   "outputs": [],
   "source": [
    "img = -img"
   ]
  },
  {
   "cell_type": "code",
   "execution_count": 10,
   "id": "dedb94f8",
   "metadata": {},
   "outputs": [
    {
     "data": {
      "text/plain": [
       "array([[-0.10281575, -0.77133787, -0.3532685 , ..., -0.19752288,\n",
       "        -0.13828492, -0.78406125],\n",
       "       [-0.407845  , -0.47357622, -0.995936  , ..., -0.23293671,\n",
       "        -0.26677284, -0.45262378],\n",
       "       [-0.26974243, -0.84279597, -0.47652835, ..., -0.8618437 ,\n",
       "        -0.1223314 , -0.22297989],\n",
       "       ...,\n",
       "       [-0.6467419 , -0.7285852 , -0.41350937, ..., -0.24244979,\n",
       "        -0.7704208 , -0.69136965],\n",
       "       [-0.26720417, -0.8533413 , -0.13577428, ..., -0.81330824,\n",
       "        -0.43051434, -0.8358562 ],\n",
       "       [-0.2574979 , -0.5943771 , -0.73857296, ..., -0.22995664,\n",
       "        -0.17813958, -0.69693035]], dtype=float32)"
      ]
     },
     "execution_count": 10,
     "metadata": {},
     "output_type": "execute_result"
    }
   ],
   "source": [
    "img"
   ]
  },
  {
   "cell_type": "code",
   "execution_count": 11,
   "id": "f7afc0ed",
   "metadata": {},
   "outputs": [],
   "source": [
    "tiff.imsave(\"test2.tif\",img)"
   ]
  },
  {
   "cell_type": "code",
   "execution_count": 12,
   "id": "495d827b",
   "metadata": {},
   "outputs": [],
   "source": [
    "import cv2"
   ]
  },
  {
   "cell_type": "code",
   "execution_count": 13,
   "id": "82a27587",
   "metadata": {},
   "outputs": [],
   "source": [
    "test1 = tiff.imread(\"test.tif\")"
   ]
  },
  {
   "cell_type": "code",
   "execution_count": 15,
   "id": "34b9aa40",
   "metadata": {},
   "outputs": [],
   "source": [
    "test2 = tiff.imread(\"test2.tif\")"
   ]
  },
  {
   "cell_type": "code",
   "execution_count": 14,
   "id": "73628f6b",
   "metadata": {},
   "outputs": [
    {
     "data": {
      "text/plain": [
       "array([[0.10281575, 0.77133787, 0.3532685 , ..., 0.19752288, 0.13828492,\n",
       "        0.78406125],\n",
       "       [0.407845  , 0.47357622, 0.995936  , ..., 0.23293671, 0.26677284,\n",
       "        0.45262378],\n",
       "       [0.26974243, 0.84279597, 0.47652835, ..., 0.8618437 , 0.1223314 ,\n",
       "        0.22297989],\n",
       "       ...,\n",
       "       [0.6467419 , 0.7285852 , 0.41350937, ..., 0.24244979, 0.7704208 ,\n",
       "        0.69136965],\n",
       "       [0.26720417, 0.8533413 , 0.13577428, ..., 0.81330824, 0.43051434,\n",
       "        0.8358562 ],\n",
       "       [0.2574979 , 0.5943771 , 0.73857296, ..., 0.22995664, 0.17813958,\n",
       "        0.69693035]], dtype=float32)"
      ]
     },
     "execution_count": 14,
     "metadata": {},
     "output_type": "execute_result"
    }
   ],
   "source": [
    "test1"
   ]
  },
  {
   "cell_type": "code",
   "execution_count": 16,
   "id": "e98f5a38",
   "metadata": {},
   "outputs": [
    {
     "data": {
      "text/plain": [
       "array([[-0.10281575, -0.77133787, -0.3532685 , ..., -0.19752288,\n",
       "        -0.13828492, -0.78406125],\n",
       "       [-0.407845  , -0.47357622, -0.995936  , ..., -0.23293671,\n",
       "        -0.26677284, -0.45262378],\n",
       "       [-0.26974243, -0.84279597, -0.47652835, ..., -0.8618437 ,\n",
       "        -0.1223314 , -0.22297989],\n",
       "       ...,\n",
       "       [-0.6467419 , -0.7285852 , -0.41350937, ..., -0.24244979,\n",
       "        -0.7704208 , -0.69136965],\n",
       "       [-0.26720417, -0.8533413 , -0.13577428, ..., -0.81330824,\n",
       "        -0.43051434, -0.8358562 ],\n",
       "       [-0.2574979 , -0.5943771 , -0.73857296, ..., -0.22995664,\n",
       "        -0.17813958, -0.69693035]], dtype=float32)"
      ]
     },
     "execution_count": 16,
     "metadata": {},
     "output_type": "execute_result"
    }
   ],
   "source": [
    "test2"
   ]
  },
  {
   "cell_type": "code",
   "execution_count": 17,
   "id": "bd105140",
   "metadata": {},
   "outputs": [
    {
     "data": {
      "text/plain": [
       "array([[ True,  True,  True, ...,  True,  True,  True],\n",
       "       [ True,  True,  True, ...,  True,  True,  True],\n",
       "       [ True,  True,  True, ...,  True,  True,  True],\n",
       "       ...,\n",
       "       [ True,  True,  True, ...,  True,  True,  True],\n",
       "       [ True,  True,  True, ...,  True,  True,  True],\n",
       "       [ True,  True,  True, ...,  True,  True,  True]])"
      ]
     },
     "execution_count": 17,
     "metadata": {},
     "output_type": "execute_result"
    }
   ],
   "source": [
    "img == test2"
   ]
  },
  {
   "cell_type": "code",
   "execution_count": 18,
   "id": "d758e26e",
   "metadata": {},
   "outputs": [],
   "source": [
    "img = -img"
   ]
  },
  {
   "cell_type": "code",
   "execution_count": 19,
   "id": "5b168e76",
   "metadata": {},
   "outputs": [
    {
     "data": {
      "text/plain": [
       "array([[ True,  True,  True, ...,  True,  True,  True],\n",
       "       [ True,  True,  True, ...,  True,  True,  True],\n",
       "       [ True,  True,  True, ...,  True,  True,  True],\n",
       "       ...,\n",
       "       [ True,  True,  True, ...,  True,  True,  True],\n",
       "       [ True,  True,  True, ...,  True,  True,  True],\n",
       "       [ True,  True,  True, ...,  True,  True,  True]])"
      ]
     },
     "execution_count": 19,
     "metadata": {},
     "output_type": "execute_result"
    }
   ],
   "source": [
    "img == test1"
   ]
  },
  {
   "cell_type": "code",
   "execution_count": 20,
   "id": "491eaaa9",
   "metadata": {},
   "outputs": [],
   "source": [
    "img = img*50"
   ]
  },
  {
   "cell_type": "code",
   "execution_count": 21,
   "id": "0b5c63e2",
   "metadata": {},
   "outputs": [],
   "source": [
    "tiff.imsave(\"test3.tif\",img)"
   ]
  },
  {
   "cell_type": "code",
   "execution_count": 22,
   "id": "ba53a57e",
   "metadata": {},
   "outputs": [
    {
     "data": {
      "text/plain": [
       "array([[ 5.1407876, 38.566895 , 17.663425 , ...,  9.876144 ,  6.914246 ,\n",
       "        39.203064 ],\n",
       "       [20.39225  , 23.67881  , 49.7968   , ..., 11.646835 , 13.338642 ,\n",
       "        22.63119  ],\n",
       "       [13.487122 , 42.139797 , 23.826418 , ..., 43.092186 ,  6.11657  ,\n",
       "        11.148994 ],\n",
       "       ...,\n",
       "       [32.337097 , 36.42926  , 20.675468 , ..., 12.12249  , 38.521038 ,\n",
       "        34.56848  ],\n",
       "       [13.3602085, 42.667065 ,  6.7887144, ..., 40.665413 , 21.525717 ,\n",
       "        41.79281  ],\n",
       "       [12.874895 , 29.718855 , 36.928646 , ..., 11.497832 ,  8.90698  ,\n",
       "        34.846516 ]], dtype=float32)"
      ]
     },
     "execution_count": 22,
     "metadata": {},
     "output_type": "execute_result"
    }
   ],
   "source": [
    "img"
   ]
  },
  {
   "cell_type": "code",
   "execution_count": 23,
   "id": "01673c45",
   "metadata": {},
   "outputs": [],
   "source": [
    "img = img*50"
   ]
  },
  {
   "cell_type": "code",
   "execution_count": 24,
   "id": "c57a4bca",
   "metadata": {},
   "outputs": [],
   "source": [
    "tiff.imsave(\"test4.tif\",img)"
   ]
  },
  {
   "cell_type": "code",
   "execution_count": null,
   "id": "76638d25",
   "metadata": {},
   "outputs": [],
   "source": []
  }
 ],
 "metadata": {
  "kernelspec": {
   "display_name": "Python 3 (ipykernel)",
   "language": "python",
   "name": "python3"
  },
  "language_info": {
   "codemirror_mode": {
    "name": "ipython",
    "version": 3
   },
   "file_extension": ".py",
   "mimetype": "text/x-python",
   "name": "python",
   "nbconvert_exporter": "python",
   "pygments_lexer": "ipython3",
   "version": "3.7.11"
  }
 },
 "nbformat": 4,
 "nbformat_minor": 5
}
